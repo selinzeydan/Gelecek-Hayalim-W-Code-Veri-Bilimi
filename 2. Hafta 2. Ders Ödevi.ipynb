{
 "cells": [
  {
   "cell_type": "markdown",
   "id": "b88c527b-8f5b-4afa-b81d-a9cfdb677097",
   "metadata": {},
   "source": [
    "# 2. Hafta 2. Ders Ödevi"
   ]
  },
  {
   "cell_type": "markdown",
   "id": "521e529a-347b-4ddb-a7b0-71c3115659dc",
   "metadata": {},
   "source": [
    "**Aşağıdaki işlemleri indexing ve slicing kullanarak liste üzerinde uygulayın.**\n",
    "\n",
    "liste = [\"Python\",True,9,\"3\",8.4,\"Hi-Kod\",\"False\",4.7]\n",
    "\n",
    "* \"3\" değerine ulaşmak için indexleme yapın.\n",
    "* \"Hi-Kod\" değerine ulaşmak için indexleme yapın.\n",
    "* 4.7 değerine ulaşmak için indexleme yapın.\n",
    "* 9,\"3\",8.4,\"Hi-Kod\" değerlerine ulaşmak için slicing yapın.\n",
    "* 8.4,\"Hi-Kod\",\"False\",4.7 değerlerine ulaşmak için slicing yapın."
   ]
  },
  {
   "cell_type": "code",
   "execution_count": 8,
   "id": "66d683ce-cc30-4046-9516-0b8b0c5ff833",
   "metadata": {
    "tags": []
   },
   "outputs": [
    {
     "name": "stdout",
     "output_type": "stream",
     "text": [
      "\"3\" değeri: 3\n",
      "\"Hi-Kod\" değeri: Hi-Kod\n",
      "4.7 değeri: 4.7\n",
      "9, \"3\", 8.4, \"Hi-Kod\" değerleri: [9, '3', 8.4, 'Hi-Kod']\n",
      "8.4, \"Hi-Kod\", \"False\", 4.7 değerleri: [8.4, 'Hi-Kod', 'False', 4.7]\n"
     ]
    }
   ],
   "source": [
    "liste = [\"Python\",True,9,\"3\",8.4,\"Hi-Kod\",\"False\",4.7]\n",
    "\n",
    "değer_3 = liste[3]\n",
    "print(f'\"3\" değeri: {değer_3}')\n",
    "\n",
    "Hi_kod =liste[5]\n",
    "print(f'\"Hi-Kod\" değeri: {Hi_kod}')\n",
    "\n",
    "değer_4_7 = liste[7]\n",
    "print(f'4.7 değeri: {değer_4_7}')\n",
    "\n",
    "değerler_1 = liste[2:6]\n",
    "print(f'9, \"3\", 8.4, \"Hi-Kod\" değerleri: {değerler_1}')\n",
    "\n",
    "değerler_2 = liste[4:]\n",
    "print(f'8.4, \"Hi-Kod\", \"False\", 4.7 değerleri: {değerler_2}')"
   ]
  },
  {
   "cell_type": "markdown",
   "id": "ca3f7d62-f037-4ab3-bbd6-d988e8abff4d",
   "metadata": {},
   "source": [
    "**Verilen listede bulunan string veri tipinde öğeler yeni_liste isimli listeye eklenir.**\n",
    "\n",
    "liste = [\"Python\",True,9,\"3\",8.4,\"Hi-Kod\",\"False\",4.7]"
   ]
  },
  {
   "cell_type": "code",
   "execution_count": 11,
   "id": "df6976d2-dde1-47a5-afcb-faac95331d5b",
   "metadata": {
    "tags": []
   },
   "outputs": [
    {
     "name": "stdout",
     "output_type": "stream",
     "text": [
      "String veri tipinde olan öğeler: ['Python', '3', 'Hi-Kod', 'False']\n"
     ]
    }
   ],
   "source": [
    "liste = [\"Python\", True, 9, \"3\", 8.4, \"Hi-Kod\", \"False\", 4.7]\n",
    "\n",
    "yeni_liste = []\n",
    "\n",
    "for eleman in liste:\n",
    "    if isinstance(eleman, str):  \n",
    "        yeni_liste.append(eleman)\n",
    "        \n",
    "print(\"String veri tipinde olan öğeler:\", yeni_liste)"
   ]
  },
  {
   "cell_type": "markdown",
   "id": "71273e2f-19f7-4d84-bcaf-6f3b68fbbc4e",
   "metadata": {},
   "source": [
    "**Enumerate methodunu araştırın ve aşağıdaki örneği enumerate methodu ile yapın.**\n",
    "\n",
    "for index in range(len(meyveler)):\n",
    "\n",
    "print(\"{}. indexte bulunan meyve: {}\".format(index,meyveler[index])"
   ]
  },
  {
   "cell_type": "code",
   "execution_count": 20,
   "id": "27f2b46b-c8ca-4fb8-9bd9-b084828337a6",
   "metadata": {
    "tags": []
   },
   "outputs": [
    {
     "name": "stdout",
     "output_type": "stream",
     "text": [
      "0. indexte bulunan meyve: Elma\n",
      "1. indexte bulunan meyve: Armut\n",
      "2. indexte bulunan meyve: Çilek\n",
      "3. indexte bulunan meyve: Karpuz\n"
     ]
    }
   ],
   "source": [
    "meyveler = [\"Elma\", \"Armut\", \"Çilek\", \"Karpuz\"]\n",
    "\n",
    "for index, meyve in enumerate(meyveler):\n",
    "    print(\"{}. indexte bulunan meyve: {}\".format(index, meyve))"
   ]
  }
 ],
 "metadata": {
  "kernelspec": {
   "display_name": "Python 3 (ipykernel)",
   "language": "python",
   "name": "python3"
  },
  "language_info": {
   "codemirror_mode": {
    "name": "ipython",
    "version": 3
   },
   "file_extension": ".py",
   "mimetype": "text/x-python",
   "name": "python",
   "nbconvert_exporter": "python",
   "pygments_lexer": "ipython3",
   "version": "3.11.7"
  }
 },
 "nbformat": 4,
 "nbformat_minor": 5
}
