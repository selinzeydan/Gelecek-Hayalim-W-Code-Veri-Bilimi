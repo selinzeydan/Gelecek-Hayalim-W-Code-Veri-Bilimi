{
 "cells": [
  {
   "cell_type": "markdown",
   "id": "786a1e19-4c7d-4616-a5e9-60b2a5583e97",
   "metadata": {},
   "source": [
    "# 7. Hafta 1. Ödev"
   ]
  },
  {
   "cell_type": "markdown",
   "id": "f7f589c5-b544-4d42-b1a8-27d5e7e14b88",
   "metadata": {},
   "source": [
    "sozluk = {\"Kategori\": [\"Giyim\",\"Giyim\", \"Ayakkabı\",\"Aksesuar\",\"Ayakkabı\",\"Giyim\",\"Aksesuar\",\"Aksesuar\",\"Ayakkabı\",\"Giyim\"],\n",
    "\n",
    "\"Ürün\" : [\"Kazak\",\"T-shirt\",\"Sandalet\",\"Küpe\",\"Spor yakkabı\",\"Pantolon\",\"Kolye\",\"Yüzük\",\"Çizme\",\"Ceket\"],\n",
    "\n",
    "\"Fiyat\" : [300,180,450,50,700,400,150,80,850,900]}\n",
    "\n",
    "\n",
    "1. Yukarıdaki sözlük DataFrame’e dönüştürülür. \n",
    " \n",
    "2. Yukarıdaki DataFrame için \n",
    "* 2. indexte bulunan kategori bulunur. (Sadece kategori bilgisi) \n",
    "* 2. indexte bulunan ürün bulunur. (Sadece ürün bilgisi) \n",
    "* 4.indexten 9.indexe kadar olan veriler bulunur. (Kategori,ürün,fiyat bilgisi beraber) \n",
    "* 1. indexten 6.indexe kadar olan ürünler bulunur. (Sadece ürün bilgisi) \n",
    "\n",
    "3. Yukarıdaki DataFrame için\n",
    "\n",
    "* Giyim kategorisinde fiyatı 300'den fazla olan ürünler gösterilir. \n",
    "* Ayakkabı kategorisinde fiyatı 600'den az olan ürünler gösterilir. \n",
    "* Aksesuar kategorisinde fiyatı 100'den fazla olan aksesuar gösterilir. "
   ]
  },
  {
   "cell_type": "code",
   "execution_count": 5,
   "id": "fa068524-deb7-4fe5-b89e-c7c15e1d074e",
   "metadata": {
    "tags": []
   },
   "outputs": [
    {
     "name": "stdout",
     "output_type": "stream",
     "text": [
      "   Kategori           Ürün  Fiyat\n",
      "0     Giyim          Kazak    300\n",
      "1     Giyim        T-shirt    180\n",
      "2  Ayakkabı       Sandalet    450\n",
      "3  Aksesuar           Küpe     50\n",
      "4  Ayakkabı  Spor Ayakkabı    700\n",
      "5     Giyim       Pantolon    400\n",
      "6  Aksesuar          Kolye    150\n",
      "7  Aksesuar          Yüzük     80\n",
      "8  Ayakkabı          Çizme    850\n",
      "9     Giyim          Ceket    900\n"
     ]
    }
   ],
   "source": [
    "import pandas as pd\n",
    "\n",
    "sozluk = {\n",
    "    \"Kategori\": [\"Giyim\", \"Giyim\", \"Ayakkabı\", \"Aksesuar\", \"Ayakkabı\", \"Giyim\", \"Aksesuar\", \"Aksesuar\", \"Ayakkabı\", \"Giyim\"],\n",
    "    \"Ürün\": [\"Kazak\", \"T-shirt\", \"Sandalet\", \"Küpe\", \"Spor Ayakkabı\", \"Pantolon\", \"Kolye\", \"Yüzük\", \"Çizme\", \"Ceket\"],\n",
    "    \"Fiyat\": [300, 180, 450, 50, 700, 400, 150, 80, 850, 900]\n",
    "}\n",
    "\n",
    "df = pd.DataFrame(sozluk)\n",
    "print(df)"
   ]
  },
  {
   "cell_type": "code",
   "execution_count": 11,
   "id": "be86d9a0-b513-486d-9d92-27cb23f32892",
   "metadata": {
    "tags": []
   },
   "outputs": [
    {
     "name": "stdout",
     "output_type": "stream",
     "text": [
      "2. indexte bulunan kategori: Ayakkabı\n"
     ]
    }
   ],
   "source": [
    "kategori_bilgisi = df.iloc[2][\"Kategori\"]\n",
    "print(f\"2. indexte bulunan kategori: {kategori_bilgisi}\")"
   ]
  },
  {
   "cell_type": "code",
   "execution_count": 13,
   "id": "e3ec1bb6-7558-4c42-b6e5-dd3692d3bac8",
   "metadata": {
    "tags": []
   },
   "outputs": [
    {
     "name": "stdout",
     "output_type": "stream",
     "text": [
      "2. indexte bulunan ürün: Sandalet\n"
     ]
    }
   ],
   "source": [
    "ürün_bilgisi = df.iloc[2][\"Ürün\"]\n",
    "print(f\"2. indexte bulunan ürün: {ürün_bilgisi}\")"
   ]
  },
  {
   "cell_type": "code",
   "execution_count": 15,
   "id": "ac4c04ab-410e-42c0-9f41-d205c666a6a2",
   "metadata": {
    "tags": []
   },
   "outputs": [
    {
     "name": "stdout",
     "output_type": "stream",
     "text": [
      "   Kategori           Ürün  Fiyat\n",
      "4  Ayakkabı  Spor Ayakkabı    700\n",
      "5     Giyim       Pantolon    400\n",
      "6  Aksesuar          Kolye    150\n",
      "7  Aksesuar          Yüzük     80\n",
      "8  Ayakkabı          Çizme    850\n",
      "9     Giyim          Ceket    900\n"
     ]
    }
   ],
   "source": [
    "veriler_4_to_9 = df.iloc[4:10]\n",
    "print(veriler_4_to_9)"
   ]
  },
  {
   "cell_type": "code",
   "execution_count": 17,
   "id": "3aef1511-616c-48ec-9ec5-9f28b7d5a4ac",
   "metadata": {
    "tags": []
   },
   "outputs": [
    {
     "name": "stdout",
     "output_type": "stream",
     "text": [
      "1          T-shirt\n",
      "2         Sandalet\n",
      "3             Küpe\n",
      "4    Spor Ayakkabı\n",
      "5         Pantolon\n",
      "Name: Ürün, dtype: object\n"
     ]
    }
   ],
   "source": [
    "ürünler_1_6 = df.iloc[1:6][\"Ürün\"]\n",
    "print(ürünler_1_6)"
   ]
  },
  {
   "cell_type": "code",
   "execution_count": 19,
   "id": "49219837-dbd2-4ecc-b2b7-0a590d95088b",
   "metadata": {
    "tags": []
   },
   "outputs": [
    {
     "name": "stdout",
     "output_type": "stream",
     "text": [
      "  Kategori      Ürün  Fiyat\n",
      "5    Giyim  Pantolon    400\n",
      "9    Giyim     Ceket    900\n"
     ]
    }
   ],
   "source": [
    "giyim_300den_fazla = df[(df[\"Kategori\"] == \"Giyim\") & (df[\"Fiyat\"] > 300)]\n",
    "print(giyim_300den_fazla)"
   ]
  },
  {
   "cell_type": "code",
   "execution_count": 21,
   "id": "dbc61903-e50f-4384-bc63-31e2916b3a31",
   "metadata": {
    "tags": []
   },
   "outputs": [
    {
     "name": "stdout",
     "output_type": "stream",
     "text": [
      "   Kategori      Ürün  Fiyat\n",
      "2  Ayakkabı  Sandalet    450\n"
     ]
    }
   ],
   "source": [
    "ayakkabi_600den_az = df[(df[\"Kategori\"] == \"Ayakkabı\") & (df[\"Fiyat\"] < 600)]\n",
    "print(ayakkabi_600den_az)"
   ]
  },
  {
   "cell_type": "code",
   "execution_count": 23,
   "id": "170706ee-3b96-4676-98cb-f2c34c6e39bc",
   "metadata": {
    "tags": []
   },
   "outputs": [
    {
     "name": "stdout",
     "output_type": "stream",
     "text": [
      "   Kategori   Ürün  Fiyat\n",
      "6  Aksesuar  Kolye    150\n"
     ]
    }
   ],
   "source": [
    "aksesuar_100den_fazla = df[(df[\"Kategori\"] == \"Aksesuar\") & (df[\"Fiyat\"] > 100)]\n",
    "print(aksesuar_100den_fazla)"
   ]
  },
  {
   "cell_type": "code",
   "execution_count": null,
   "id": "3a47680e-c3cf-49a2-b159-bd498a87c20f",
   "metadata": {},
   "outputs": [],
   "source": []
  }
 ],
 "metadata": {
  "kernelspec": {
   "display_name": "Python 3 (ipykernel)",
   "language": "python",
   "name": "python3"
  },
  "language_info": {
   "codemirror_mode": {
    "name": "ipython",
    "version": 3
   },
   "file_extension": ".py",
   "mimetype": "text/x-python",
   "name": "python",
   "nbconvert_exporter": "python",
   "pygments_lexer": "ipython3",
   "version": "3.11.7"
  }
 },
 "nbformat": 4,
 "nbformat_minor": 5
}
