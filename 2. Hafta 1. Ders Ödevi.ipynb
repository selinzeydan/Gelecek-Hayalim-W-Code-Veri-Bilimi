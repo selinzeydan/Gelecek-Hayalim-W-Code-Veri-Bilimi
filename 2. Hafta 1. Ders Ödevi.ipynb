{
 "cells": [
  {
   "cell_type": "markdown",
   "id": "bdfc5d6e-7e69-4735-9d70-9ea7805908b1",
   "metadata": {},
   "source": [
    "# 2. Hafta 1. Ders Ödevi"
   ]
  },
  {
   "cell_type": "markdown",
   "id": "8a70fa11-c2e1-4c1b-9a57-fea9736350de",
   "metadata": {},
   "source": [
    "**Kullanıcıdan pi değeri ve yarıçap bilgisi alınarak dairenin alanını hesaplayan bir fonksiyon oluşturulur.**"
   ]
  },
  {
   "cell_type": "code",
   "execution_count": 3,
   "id": "8d4ad50d-17b6-46a1-a19c-38d94402a93e",
   "metadata": {
    "tags": []
   },
   "outputs": [
    {
     "name": "stdin",
     "output_type": "stream",
     "text": [
      "Lütfen pi değerini giriniz:  3.14\n",
      "Lütfen dairenin yarıçapını giriniz:  5\n"
     ]
    },
    {
     "name": "stdout",
     "output_type": "stream",
     "text": [
      "Dairenin alanı: 78.50\n"
     ]
    }
   ],
   "source": [
    "def dairenin_alanı(pi,yarıçap):\n",
    "    alan = pi * (yarıçap ** 2)\n",
    "    return alan\n",
    "\n",
    "pi_değeri = float(input(\"Lütfen pi değerini giriniz: \"))\n",
    "yarıçap = float(input(\"Lütfen dairenin yarıçapını giriniz: \"))\n",
    "\n",
    "alan = dairenin_alanı(pi_değeri, yarıçap)\n",
    "\n",
    "print(f\"Dairenin alanı: {alan:.2f}\")"
   ]
  },
  {
   "cell_type": "markdown",
   "id": "8e11e835-2a93-4b7f-af32-fcb4b2fbc32e",
   "metadata": {},
   "source": [
    "**Faktöriyel adında fonksiyon oluşturulur. Döngü kullanılarak parametre olarak girilen sayının faktöriyeli hesaplanır. Format metodunu kullanılarak ekrana yazdırılır.**"
   ]
  },
  {
   "cell_type": "code",
   "execution_count": 15,
   "id": "90faaaf8-e456-4290-a751-18d6cda7b3b5",
   "metadata": {
    "tags": []
   },
   "outputs": [
    {
     "name": "stdin",
     "output_type": "stream",
     "text": [
      "Faktöriyelini hesaplamak istediğiniz sayıyı giriniz:  5\n"
     ]
    },
    {
     "name": "stdout",
     "output_type": "stream",
     "text": [
      "Girilen sayının faktöriyeli: 120\n"
     ]
    }
   ],
   "source": [
    "def faktöriyel(sayı):\n",
    "    sonuç = 1\n",
    "    while sayı > 1:\n",
    "        sonuç *= sayı\n",
    "        sayı -= 1\n",
    "    return sonuç\n",
    "\n",
    "girilen_sayı = int(input(\"Faktöriyelini hesaplamak istediğiniz sayıyı giriniz: \"))\n",
    "print(\"Girilen sayının faktöriyeli: {}\".format(faktöriyel(girilen_sayı)))"
   ]
  },
  {
   "cell_type": "markdown",
   "id": "fc542ecf-853c-497b-89c9-7b3d45796435",
   "metadata": {},
   "source": [
    "**Kişinin fonksiyona doğum yılını vererek ka. yaşında olduğunu hesaplayan bir fonksyion oluşturun.**"
   ]
  },
  {
   "cell_type": "code",
   "execution_count": 23,
   "id": "c004bbcd-a187-4b52-b634-13b4d6802bde",
   "metadata": {
    "tags": []
   },
   "outputs": [
    {
     "name": "stdin",
     "output_type": "stream",
     "text": [
      "Doğum yılınızı giriniz:  2001\n"
     ]
    },
    {
     "name": "stdout",
     "output_type": "stream",
     "text": [
      "Yaşınız: 23\n"
     ]
    }
   ],
   "source": [
    "from datetime import datetime\n",
    "\n",
    "def yaş_hesaplama(doğum_yılı):\n",
    "    mevcut_yıl = datetime.now().year\n",
    "    yaş = mevcut_yıl - doğum_yılı\n",
    "    return yaş\n",
    "\n",
    "doğum_yılı = int(input(\"Doğum yılınızı giriniz: \"))\n",
    "yaş = yaş_hesaplama(doğum_yılı)\n",
    "print(f\"Yaşınız: {yaş}\")"
   ]
  },
  {
   "cell_type": "markdown",
   "id": "3918d976-7053-42ec-9050-8264eb78a68e",
   "metadata": {},
   "source": [
    "**Doğum yılı ve isim bilgisi verilen fonksiyon kişinin emekli olup olmadığını söylesin. (Kişi 65 yaşında ise emekli olur.) Burada yaş hesabını yukarıdaki örnekteki fonksiyonu kullanarak yapsın.(Yani fonksiyon içinde fonksiyon kullanmanızı istiyorum :)) Kişi 65 yaşında ya da daha fazlaysa \"Emekli oldunuz\" yanıtını, 65 yaşından küçükse emekliliğine kaç yıl kaldığını da hesaplayarak \"(isim) emekliliğine (yıl) kaldı.\" yanıtını versin.**"
   ]
  },
  {
   "cell_type": "code",
   "execution_count": 33,
   "id": "8edc0a81-2d06-4043-8c29-40ff04ae744f",
   "metadata": {
    "tags": []
   },
   "outputs": [
    {
     "name": "stdin",
     "output_type": "stream",
     "text": [
      "Lütfen isminizi giriniz:  Selin\n",
      "Doğum yılınızı giriniz:  2001\n"
     ]
    },
    {
     "name": "stdout",
     "output_type": "stream",
     "text": [
      "Selin, emekliliğinize 42 yıl kaldı.\n"
     ]
    }
   ],
   "source": [
    "from datetime import datetime\n",
    "\n",
    "def yaş_hesaplama(doğum_yılı):\n",
    "    mevcut_yıl = datetime.now().year\n",
    "    yaş = mevcut_yıl - doğum_yılı\n",
    "    return yaş\n",
    "\n",
    "def emeklilik_durumu(isim,doğum_yılı):\n",
    "    yaş = yaş_hesaplama(doğum_yılı)\n",
    "    if yaş >= 65:\n",
    "        return f\"{isim} emekli oldunuz.\"\n",
    "    else:\n",
    "        kalan_yıl = 65 - yaş\n",
    "        return f\"{isim}, emekliliğinize {kalan_yıl} yıl kaldı.\"\n",
    "    \n",
    "isim = input(\"Lütfen isminizi giriniz: \")\n",
    "doğum_yılı = int(input(\"Doğum yılınızı giriniz: \"))\n",
    "\n",
    "sonuç = emeklilik_durumu(isim, doğum_yılı)\n",
    "print(sonuç)"
   ]
  },
  {
   "cell_type": "code",
   "execution_count": null,
   "id": "d7b74282-a325-4648-add8-d73831c87be7",
   "metadata": {},
   "outputs": [],
   "source": []
  }
 ],
 "metadata": {
  "kernelspec": {
   "display_name": "Python 3 (ipykernel)",
   "language": "python",
   "name": "python3"
  },
  "language_info": {
   "codemirror_mode": {
    "name": "ipython",
    "version": 3
   },
   "file_extension": ".py",
   "mimetype": "text/x-python",
   "name": "python",
   "nbconvert_exporter": "python",
   "pygments_lexer": "ipython3",
   "version": "3.11.7"
  }
 },
 "nbformat": 4,
 "nbformat_minor": 5
}
