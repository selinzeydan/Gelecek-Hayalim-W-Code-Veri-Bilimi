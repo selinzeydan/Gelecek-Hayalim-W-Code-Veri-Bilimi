{
 "cells": [
  {
   "cell_type": "markdown",
   "id": "f65e8618-e635-419b-9dad-f0d024c18f6e",
   "metadata": {},
   "source": [
    "# 6. Hafta 2. Ödev"
   ]
  },
  {
   "cell_type": "markdown",
   "id": "5f3ec13b-c25b-4268-accb-ac83c50adc06",
   "metadata": {},
   "source": [
    "**1. Sayılardan oluşan bir boyutlu array oluşturulur. Arrayi oluştururken sayıların veri tipini integer olarak belirtilir. Oluşturulan arrayin boyut, eleman sayısı bilgilerine bakılır.**"
   ]
  },
  {
   "cell_type": "code",
   "execution_count": 24,
   "id": "95288d55-12e7-4a46-8752-45ba740a426b",
   "metadata": {},
   "outputs": [
    {
     "name": "stdout",
     "output_type": "stream",
     "text": [
      "Array: [1 2 3 4 5]\n",
      "Boyut: (5,)\n",
      "Eleman sayısı: 5\n",
      "Boyut sayısı: 1\n"
     ]
    }
   ],
   "source": [
    "import numpy as np\n",
    "\n",
    "array = np.array([1, 2, 3, 4, 5], dtype =int)\n",
    "\n",
    "boyut = array.shape\n",
    "eleman_sayısı = array.size\n",
    "boyut_sayısı = array.ndim\n",
    "\n",
    "print(f\"Array: {array}\")\n",
    "print(f\"Boyut: {boyut}\")\n",
    "print(f\"Eleman sayısı: {eleman_sayısı}\")\n",
    "print(f\"Boyut sayısı: {boyut_sayısı}\")"
   ]
  },
  {
   "cell_type": "markdown",
   "id": "dbc36b77-1557-44e6-97bd-530717808620",
   "metadata": {},
   "source": [
    "**2. İki ve üç boyutlu arraylar oluşturulur. Bu arraylerin boyut, eleman sayısı, satır, sütun bilgilerine ulaşılır. Arrayler üzerinde indexleme ve dilimleme(slicing) işlemi yapılır.**"
   ]
  },
  {
   "cell_type": "code",
   "execution_count": 26,
   "id": "2e21ec27-61e0-4d9d-aac3-526ab54df8c3",
   "metadata": {
    "tags": []
   },
   "outputs": [
    {
     "name": "stdout",
     "output_type": "stream",
     "text": [
      "2 Boyutlu Array:\n",
      "[[1 2 3]\n",
      " [4 5 6]\n",
      " [7 8 9]]\n",
      "Boyut (ndim): 2\n",
      "Eleman sayısı (size): 9\n",
      "Şekil (shape): (2, 2, 3)\n",
      "\n",
      "2 Boyutlu Array'den eleman seçme:\n",
      "array_2d[1, 2]: 6\n",
      "\n",
      "2 Boyutlu Array'de dilimleme:\n",
      "array_2d[1:, 1:]:\n",
      " [[5 6]\n",
      " [8 9]]\n",
      "\n",
      "3 Boyutlu Array:\n",
      "[[[ 1  2  3]\n",
      "  [ 4  5  6]]\n",
      "\n",
      " [[ 7  8  9]\n",
      "  [10 11 12]]]\n",
      "Boyut (ndim): 3\n",
      "Eleman sayısı (size): 12\n",
      "Şekil (shape): (2, 2, 3)\n",
      "\n",
      "3 Boyutlu Array'den eleman seçme:\n",
      "array_3d[0, 1, 2]: 6\n",
      "\n",
      "3 Boyutlu Array'de dilimleme:\n",
      "array_3d[:, 0, :]:\n",
      " [[1 2 3]\n",
      " [7 8 9]]\n"
     ]
    }
   ],
   "source": [
    "array_2d = np.array([[1,2,3], [4,5,6], [7,8,9]], dtype=int)\n",
    "array_3d = np.array([[[1,2,3], [4,5,6]],\n",
    "                      [[7,8,9], [10,11,12]]], dtype=int)\n",
    "\n",
    "#2 Boyutlu array\n",
    "print(\"2 Boyutlu Array:\")\n",
    "print(array_2d)\n",
    "print(\"Boyut (ndim):\", array_2d.ndim)\n",
    "print(\"Eleman sayısı (size):\", array_2d.size)\n",
    "print(\"Şekil (shape):\", array_3d.shape)\n",
    "\n",
    "print(\"\\n2 Boyutlu Array'den eleman seçme:\")\n",
    "print(\"array_2d[1, 2]:\", array_2d[1, 2])\n",
    "\n",
    "print(\"\\n2 Boyutlu Array'de dilimleme:\")\n",
    "print(\"array_2d[1:, 1:]:\\n\", array_2d[1:, 1:])\n",
    "\n",
    "#3 Boyutlu array\n",
    "print(\"\\n3 Boyutlu Array:\")\n",
    "print(array_3d)\n",
    "print(\"Boyut (ndim):\", array_3d.ndim)\n",
    "print(\"Eleman sayısı (size):\", array_3d.size)\n",
    "print(\"Şekil (shape):\", array_3d.shape) \n",
    "\n",
    "print(\"\\n3 Boyutlu Array'den eleman seçme:\")\n",
    "print(\"array_3d[0, 1, 2]:\", array_3d[0, 1, 2])\n",
    "\n",
    "print(\"\\n3 Boyutlu Array'de dilimleme:\")\n",
    "print(\"array_3d[:, 0, :]:\\n\", array_3d[:, 0, :])"
   ]
  },
  {
   "cell_type": "markdown",
   "id": "8f41a891-df81-4d64-83ba-c9d81a546550",
   "metadata": {},
   "source": [
    "**3. Numpy fonksiyonu kullanarak bir, iki ve üç boyutlu arraylar oluşturulur. Arraylar üzerinde indexleme ve dilimleme (slicing) işlemi yapılır.**"
   ]
  },
  {
   "cell_type": "code",
   "execution_count": 28,
   "id": "6e083591-3224-45e3-9937-38dd9e338db6",
   "metadata": {
    "tags": []
   },
   "outputs": [
    {
     "name": "stdout",
     "output_type": "stream",
     "text": [
      "1 Boyutlu Array'den eleman seçme:\n",
      "array_1d[2]: 30\n",
      "\n",
      "2 Boyutlu Array'den eleman seçme:\n",
      "array_2d[1, 1]: 5\n",
      "\n",
      "3 Boyutlu Array'den eleman seçme:\n",
      "array_3d[1, 0, 2]: 9\n",
      "\n",
      "1 Boyutlu Array'de dilimleme:\n",
      "array_1d[1:4]: [20 30 40]\n",
      "\n",
      "2 Boyutlu Array'de dilimleme:\n",
      "array_2d[1:, 1:]:\n",
      " [[5 6]\n",
      " [8 9]]\n",
      "\n",
      "3 Boyutlu Array'de dilimleme:\n",
      "array_3d[:, 0, :]:\n",
      " [[1 2 3]\n",
      " [7 8 9]]\n"
     ]
    }
   ],
   "source": [
    "\n",
    "array_1d = np.array([10, 20, 30, 40, 50], dtype=int)\n",
    "array_2d = np.array([[1, 2, 3], [4, 5, 6], [7, 8, 9]], dtype=int)\n",
    "array_3d = np.array([[[1, 2, 3], [4, 5, 6]],\n",
    "                     [[7, 8, 9], [10, 11, 12]]], dtype=int)\n",
    "\n",
    "# 1 Boyutlu array üzerinde indexleme\n",
    "print(\"1 Boyutlu Array'den eleman seçme:\")\n",
    "print(\"array_1d[2]:\", array_1d[2])\n",
    "\n",
    "# 2 Boyutlu array üzerinde indexleme\n",
    "print(\"\\n2 Boyutlu Array'den eleman seçme:\")\n",
    "print(\"array_2d[1, 1]:\", array_2d[1, 1]) \n",
    "\n",
    "# 3 Boyutlu array üzerinde indexleme\n",
    "print(\"\\n3 Boyutlu Array'den eleman seçme:\")\n",
    "print(\"array_3d[1, 0, 2]:\", array_3d[1, 0, 2])  \n",
    "\n",
    "# 1 Boyutlu array üzerinde dilimleme\n",
    "print(\"\\n1 Boyutlu Array'de dilimleme:\")\n",
    "print(\"array_1d[1:4]:\", array_1d[1:4])  \n",
    "\n",
    "# 2 Boyutlu array üzerinde dilimleme\n",
    "print(\"\\n2 Boyutlu Array'de dilimleme:\")\n",
    "print(\"array_2d[1:, 1:]:\\n\", array_2d[1:, 1:]) \n",
    "\n",
    "# 3 Boyutlu array üzerinde dilimleme\n",
    "print(\"\\n3 Boyutlu Array'de dilimleme:\")\n",
    "print(\"array_3d[:, 0, :]:\\n\", array_3d[:, 0, :])"
   ]
  },
  {
   "cell_type": "markdown",
   "id": "b576738b-753b-4be0-9948-840b7987ada2",
   "metadata": {},
   "source": [
    "**4. Sıfırlardan oluşan ve birden oluşan iki tane iki boyutlu array oluşturulur. Bu arraylar satır ve sütun bazında birleştirilir.**"
   ]
  },
  {
   "cell_type": "code",
   "execution_count": 34,
   "id": "71aa2f7b-8672-4bdf-81bc-9066ada8b843",
   "metadata": {
    "tags": []
   },
   "outputs": [
    {
     "name": "stdout",
     "output_type": "stream",
     "text": [
      "Sıfırlardan oluşan array:\n",
      " [[0 0 0]\n",
      " [0 0 0]]\n",
      "Birlerden oluşan array:\n",
      " [[1 1 1]\n",
      " [1 1 1]]\n",
      "\n",
      "Satır bazında birleştirme (vstack):\n",
      " [[0 0 0]\n",
      " [0 0 0]\n",
      " [1 1 1]\n",
      " [1 1 1]]\n",
      "\n",
      "Sütun bazında birleştirme (hstack):\n",
      " [[0 0 0 1 1 1]\n",
      " [0 0 0 1 1 1]]\n"
     ]
    }
   ],
   "source": [
    "zeros_array = np.zeros((2, 3), dtype=int)\n",
    "ones_array = np.ones((2, 3), dtype=int)\n",
    "\n",
    "# Satır bazında birleştirme (row-wise)\n",
    "row_concat = np.vstack((zeros_array, ones_array))\n",
    "\n",
    "# Sütun bazında birleştirme (column-wise)\n",
    "column_concat = np.hstack((zeros_array, ones_array))\n",
    "\n",
    "print(\"Sıfırlardan oluşan array:\\n\", zeros_array)\n",
    "print(\"Birlerden oluşan array:\\n\", ones_array)\n",
    "\n",
    "print(\"\\nSatır bazında birleştirme (vstack):\\n\", row_concat)\n",
    "print(\"\\nSütun bazında birleştirme (hstack):\\n\", column_concat)"
   ]
  }
 ],
 "metadata": {
  "kernelspec": {
   "display_name": "Python 3 (ipykernel)",
   "language": "python",
   "name": "python3"
  },
  "language_info": {
   "codemirror_mode": {
    "name": "ipython",
    "version": 3
   },
   "file_extension": ".py",
   "mimetype": "text/x-python",
   "name": "python",
   "nbconvert_exporter": "python",
   "pygments_lexer": "ipython3",
   "version": "3.11.7"
  }
 },
 "nbformat": 4,
 "nbformat_minor": 5
}
