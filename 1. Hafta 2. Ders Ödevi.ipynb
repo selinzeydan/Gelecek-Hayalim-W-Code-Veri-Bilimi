{
 "cells": [
  {
   "cell_type": "markdown",
   "id": "703e92bb-29ff-45a2-93d3-dcba6def784e",
   "metadata": {},
   "source": [
    "# 1. Hafta 2. Ders Ödevi"
   ]
  },
  {
   "cell_type": "markdown",
   "id": "d8d228c4-eb7e-4e07-9e0d-67dc3ba10e98",
   "metadata": {},
   "source": [
    "### Ödev 1"
   ]
  },
  {
   "cell_type": "markdown",
   "id": "1f0dcb2b-3de0-4c6f-bf8a-9f34819d711a",
   "metadata": {},
   "source": [
    "Kullanıcıdan maaş bilgisi istenir ve bu bilgiye göre maaşından ne kadar vergi kesileceğini hesaplanır. Kullanıcının geliri;\n",
    "\n",
    "    1. 10000 ve altındaysa maaşından %5 kesinti olur.\n",
    "    2. 25000 ve altındaysa maaşından %10 kesinti olur.\n",
    "    3. 45000 ve altındaysa maaşından %25 kesinti olur.\n",
    "    4. Diğer koşullarda %30 kesinti olur.\n",
    "    \n",
    "Bu durumlara göre kullanıcının yeni maaşı yazdırılır."
   ]
  },
  {
   "cell_type": "code",
   "execution_count": 14,
   "id": "a315d266-a241-40f5-969f-b58f7d72aa77",
   "metadata": {
    "tags": []
   },
   "outputs": [
    {
     "name": "stdin",
     "output_type": "stream",
     "text": [
      "Lütfen maaşınızı giriniz:  50000\n"
     ]
    },
    {
     "name": "stdout",
     "output_type": "stream",
     "text": [
      "Vergisi düşürülmüş yeni maaşınız: 35000 TL\n"
     ]
    }
   ],
   "source": [
    "maaş = int(input(\"Lütfen maaşınızı giriniz: \"))\n",
    "\n",
    "if maaş <= 10000:\n",
    "    vergi_oranı = 0.05\n",
    "elif maaş <=25000 and maaş>10000:\n",
    "    vergi_oranı = 0.10\n",
    "elif maaş<=45000 and maaş>25000:\n",
    "    vergi_oranı = 0.25\n",
    "else:\n",
    "    vergi_oranı = 0.30\n",
    "    \n",
    "vergi_miktarı = maaş * vergi_oranı\n",
    "yeni_maaş = maaş - vergi_miktarı\n",
    "\n",
    "print(f\"Vergisi düşürülmüş yeni maaşınız: {int(yeni_maaş)} TL\")"
   ]
  },
  {
   "cell_type": "markdown",
   "id": "26d01e8e-920d-4248-8781-6f63489d1a2c",
   "metadata": {},
   "source": [
    "### Ödev 2"
   ]
  },
  {
   "cell_type": "markdown",
   "id": "897ff444-90d9-4342-a2c7-1cd6943bdb30",
   "metadata": {},
   "source": [
    "Kullanıcıdan kullanıcı adı ve şifre oluşturmasını istenir. Şifrenin uzunluğualtı haneye ulaşmışsa hesabınız oluşturuldu mesajı alınır, altı haneden azsa altı haneli şifre oluşturması gerektiğinin mesajı alınır. (Sadece koşul kullanılması yeterli.)"
   ]
  },
  {
   "cell_type": "code",
   "execution_count": 26,
   "id": "16e038e7-3e00-40cf-92ca-db3b83413cf1",
   "metadata": {
    "tags": []
   },
   "outputs": [
    {
     "name": "stdin",
     "output_type": "stream",
     "text": [
      "Kullanıcı adınızı oluşturun:  Selin\n",
      "Şifrenizi oluşturun:  123456\n"
     ]
    },
    {
     "name": "stdout",
     "output_type": "stream",
     "text": [
      "Hesabınız oluşturuldu.\n"
     ]
    }
   ],
   "source": [
    "kullanıcı_adı = input(\"Kullanıcı adınızı oluşturun: \")\n",
    "şifre = input(\"Şifrenizi oluşturun: \")\n",
    "\n",
    "if len(şifre) == 6:\n",
    "    print(\"Hesabınız oluşturuldu.\")\n",
    "else:\n",
    "    print(\"Altı haneli şifre oluşturmalısınız!\")"
   ]
  },
  {
   "cell_type": "markdown",
   "id": "2109cd8b-d127-49fa-b358-1bbea147e73a",
   "metadata": {},
   "source": [
    "### Ödev 3"
   ]
  },
  {
   "cell_type": "markdown",
   "id": "2d742499-a770-4c31-a799-00e4009e02f9",
   "metadata": {},
   "source": [
    "Bir önceki örnek geliştirilir.\n",
    "\n",
    "    1. Kullanıcı girdiği şifre 5 ile 10 hane arasında olmak zorunda.\n",
    "    2. Eğer bu koşula uyuyorsa \"Hesabınız oluşturuldu.\" mesajı alır.\n",
    "    3. Koşulu sağlamıyorsa \"Lütfen girdiğiniz şifre 5 haneden az 10 haneden fazla olmasın!\" uyarısını alır.\n",
    "    4. Bunu oluştururken kullanıcı istediğimiz şartlarda şifre oluşturana kadar sormaya devam eder.\n"
   ]
  },
  {
   "cell_type": "code",
   "execution_count": 31,
   "id": "1b605068-8857-4b7a-a780-792166ebd287",
   "metadata": {
    "tags": []
   },
   "outputs": [
    {
     "name": "stdin",
     "output_type": "stream",
     "text": [
      "Kullanıcı adınızı oluşturun:  Selin\n",
      "Şifrenizi oluşturun (Şifreniz 5 ile 10 karakter arasında olmalıdır.):  1234\n"
     ]
    },
    {
     "name": "stdout",
     "output_type": "stream",
     "text": [
      "Lütfen girdiğiniz şifre 5 haneden az 10 haneden fazla olmasın!\n"
     ]
    },
    {
     "name": "stdin",
     "output_type": "stream",
     "text": [
      "Şifrenizi oluşturun (Şifreniz 5 ile 10 karakter arasında olmalıdır.):  332211\n"
     ]
    },
    {
     "name": "stdout",
     "output_type": "stream",
     "text": [
      "Hesabınız oluşturuldı.\n"
     ]
    }
   ],
   "source": [
    "kullanıcı_adı = input(\"Kullanıcı adınızı oluşturun: \")\n",
    "\n",
    "while True:\n",
    "    şifre = input(\"Şifrenizi oluşturun (Şifreniz 5 ile 10 karakter arasında olmalıdır.): \")\n",
    "    \n",
    "    if 5 <= len(şifre) <= 10:\n",
    "        print(\"Hesabınız oluşturuldı.\")\n",
    "        break\n",
    "    else:\n",
    "        print(\"Lütfen girdiğiniz şifre 5 haneden az 10 haneden fazla olmasın!\")"
   ]
  },
  {
   "cell_type": "markdown",
   "id": "1b8ad885-167c-4d07-9499-5c5e8c634cdc",
   "metadata": {},
   "source": [
    "### Ödev 4"
   ]
  },
  {
   "cell_type": "markdown",
   "id": "d06da5c9-49f4-4938-b029-ba712cf7683f",
   "metadata": {},
   "source": [
    "Kullanıcıdan isim ve şifre isteyeceğiz ve şifre girişi için üç hak verilir.\n",
    "\n",
    "    1. Eğer önceden tanımlı şifre ile kullanıcıdan gelen şifre aynıysa \"Giriş yapıldı.\" yazar.\n",
    "    2. Şifre girişi yanlışsa \"Yanlış şifre girildi!\" uyarısı verilsin ve üç yanlış denemede program biter.\n",
    "    3. Tercihe göre kalan hak bilgisi verilir."
   ]
  },
  {
   "cell_type": "code",
   "execution_count": null,
   "id": "fc9f9ccc-73d2-47c9-b14b-3017730a583a",
   "metadata": {},
   "outputs": [],
   "source": [
    "kullanıcı_adı = input(\"Kullanıcı adı giriniz: \")\n",
    "doğru_şifre = \"123456\"\n",
    "\n",
    "hak = 3\n",
    "\n",
    "while hak > 0:\n",
    "    girilen_şifre = input(\"Şifrenizi giriniz: \")\n",
    "    \n",
    "    if girilen_şifre == doğru_şifre:\n",
    "        print(\"Giriş yapıldı.\")\n",
    "        break\n",
    "    else:\n",
    "        hak -= 1"
   ]
  }
 ],
 "metadata": {
  "kernelspec": {
   "display_name": "Python 3 (ipykernel)",
   "language": "python",
   "name": "python3"
  },
  "language_info": {
   "codemirror_mode": {
    "name": "ipython",
    "version": 3
   },
   "file_extension": ".py",
   "mimetype": "text/x-python",
   "name": "python",
   "nbconvert_exporter": "python",
   "pygments_lexer": "ipython3",
   "version": "3.11.7"
  }
 },
 "nbformat": 4,
 "nbformat_minor": 5
}
