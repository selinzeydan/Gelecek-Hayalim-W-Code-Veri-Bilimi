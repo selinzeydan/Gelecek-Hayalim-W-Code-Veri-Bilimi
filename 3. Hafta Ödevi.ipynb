{
 "cells": [
  {
   "cell_type": "markdown",
   "id": "ab8e1537-dbae-4ba0-8cfc-2bb3028a290f",
   "metadata": {},
   "source": [
    "# 3. Hafta Ödevi "
   ]
  },
  {
   "cell_type": "markdown",
   "id": "5b911c82-8514-4e12-882a-0719c8cef3a7",
   "metadata": {
    "tags": []
   },
   "source": [
    "### Ödev 1"
   ]
  },
  {
   "cell_type": "markdown",
   "id": "c7116867-6f00-4c71-a84d-7d200adc7cca",
   "metadata": {},
   "source": [
    "Değişkenlere atanmış verilerin veri tipleri arasında dönüşüm yapılır."
   ]
  },
  {
   "cell_type": "code",
   "execution_count": 29,
   "id": "b48c3693-e2be-4d79-9416-aded351c44d8",
   "metadata": {
    "tags": []
   },
   "outputs": [
    {
     "name": "stdout",
     "output_type": "stream",
     "text": [
      "<class 'str'>\n",
      "<class 'int'>\n",
      "<class 'bool'>\n",
      "23.0\n",
      "True\n"
     ]
    }
   ],
   "source": [
    "isim = \"Selin\"\n",
    "yas = 23\n",
    "ogrenci_mi = True\n",
    "\n",
    "print(type(isim))\n",
    "print(type(yas))\n",
    "print(type(ogrenci_mi))\n",
    "\n",
    "yas_to_float = float(yas)\n",
    "ogrenci_mi_to_str = str(ogrenci_mi)\n",
    "\n",
    "print(yas_to_float)\n",
    "print(ogrenci_mi_to_str)"
   ]
  },
  {
   "cell_type": "markdown",
   "id": "0f8943f5-f50a-46cb-8a29-a4386e88a104",
   "metadata": {},
   "source": [
    "### Ödev 2"
   ]
  },
  {
   "cell_type": "markdown",
   "id": "433fb6b6-76c0-4af8-9315-554b97b898d3",
   "metadata": {},
   "source": [
    "İsimlerden oluşan üç değişkene yaş değerleri atanır. Belirlenen üç değişken birbiriyle karşılaştırma operatörleri ile karşılaştırılır. Bu karşılaştırmalara mantıksal operatörler de eklenir."
   ]
  },
  {
   "cell_type": "code",
   "execution_count": 49,
   "id": "5e9f6e17-596c-492f-9eca-c15d33d60e46",
   "metadata": {
    "tags": []
   },
   "outputs": [
    {
     "name": "stdout",
     "output_type": "stream",
     "text": [
      "False\n",
      "True\n",
      "False\n",
      "True\n",
      "False\n",
      "True\n",
      "False\n",
      "True\n",
      "False\n"
     ]
    }
   ],
   "source": [
    "Selin = 23\n",
    "Seda = 21\n",
    "Tuana = 26\n",
    "\n",
    "print(Selin == Tuana)  \n",
    "print(Seda != Selin)  \n",
    "print(Seda > Tuana)  \n",
    "print(Selin >= Seda)  \n",
    "print(Tuana < Selin)  \n",
    "print(Seda <= Selin)  \n",
    "\n",
    "print(Selin == Tuana and Seda <= Selin)\n",
    "print(Seda != Selin or Tuana < Selin)\n",
    "print(not Selin >= Seda)\n"
   ]
  },
  {
   "cell_type": "markdown",
   "id": "9ef995f5-4014-4c2d-906d-7d0e9b6c47e5",
   "metadata": {},
   "source": [
    "### Ödev 3"
   ]
  },
  {
   "cell_type": "markdown",
   "id": "4c49b6fb-d393-4899-b4a0-6fda6d83a458",
   "metadata": {},
   "source": [
    "Kullanıcıdan iki değer girmesini istenir. Girilen değerlerin toplama, çıkarma, çarpma, bölme sonuçlarını yazdırılır."
   ]
  },
  {
   "cell_type": "code",
   "execution_count": 118,
   "id": "fa7513b4-9170-4ae2-be93-40180277dd86",
   "metadata": {
    "tags": []
   },
   "outputs": [
    {
     "name": "stdin",
     "output_type": "stream",
     "text": [
      "Lütfen birinci sayıyı giriniz:  5\n",
      "Lütfen ikinci sayıyı giriniz:  4\n"
     ]
    },
    {
     "name": "stdout",
     "output_type": "stream",
     "text": [
      "9\n",
      "1\n",
      "20\n",
      "1.25\n",
      "1\n",
      "625\n",
      "1\n"
     ]
    }
   ],
   "source": [
    "sayi_1 = int(input(\"Lütfen birinci sayıyı giriniz: \"))\n",
    "sayi_2 = int(input(\"Lütfen ikinci sayıyı giriniz: \"))\n",
    "print(sayi_1 + sayi_2)\n",
    "print(sayi_1 - sayi_2)\n",
    "print(sayi_1 * sayi_2)\n",
    "print(sayi_1 / sayi_2)\n",
    "print(sayi_1 % sayi_2)\n",
    "print(sayi_1 ** sayi_2)\n",
    "print(sayi_1 // sayi_2)"
   ]
  },
  {
   "cell_type": "markdown",
   "id": "e670c75a-3392-4889-9d85-2ea2376b8633",
   "metadata": {
    "tags": []
   },
   "source": [
    "### Ödev 4"
   ]
  },
  {
   "cell_type": "markdown",
   "id": "5380e80d-7b0b-48c4-9120-9854266186e5",
   "metadata": {},
   "source": [
    "Kullanıcıdan isim, yaş, şehir ve meslek bilgilerini istenir ve cevaplarını yazdırılır."
   ]
  },
  {
   "cell_type": "code",
   "execution_count": 111,
   "id": "fb34496c-6b75-4981-b968-576f4a3a9339",
   "metadata": {
    "tags": []
   },
   "outputs": [
    {
     "name": "stdin",
     "output_type": "stream",
     "text": [
      "İsminizi giriniz:  Selin\n",
      "Yaşınızı giriniz:  23\n",
      "Yaşadığınız şehri giriniz:  İstanbul\n",
      "Mesleğinizi giriniz:  Öğrenci\n"
     ]
    },
    {
     "name": "stdout",
     "output_type": "stream",
     "text": [
      "\n",
      "Kullanıcı Bilgileri\n",
      "İsim: Selin\n",
      "Yaş: 23\n",
      "Şehir: İstanbul\n",
      "Meslek: Öğrenci\n"
     ]
    }
   ],
   "source": [
    "isim = input(\"İsminizi giriniz: \")\n",
    "yas = input(\"Yaşınızı giriniz: \")\n",
    "sehir = input(\"Yaşadığınız şehri giriniz: \")\n",
    "meslek = input(\"Mesleğinizi giriniz: \")\n",
    "\n",
    "print(\"\\nKullanıcı Bilgileri\")\n",
    "print(\"İsim: \" +isim)\n",
    "print(\"Yaş: \" + yas)\n",
    "print(\"Şehir: \" +sehir)\n",
    "print(\"Meslek: \" +meslek)"
   ]
  },
  {
   "cell_type": "markdown",
   "id": "57bf108d-1b85-46b5-8fb1-ad29a529a1ca",
   "metadata": {},
   "source": [
    "### Ödev 5"
   ]
  },
  {
   "cell_type": "markdown",
   "id": "4427f84e-e890-4ddf-aa08-7e43a55fa9ba",
   "metadata": {},
   "source": [
    "\"Hi-Kod Veri Bilimi Atölyesi\" ifadesini bir değişkene tanımlanır.\n",
    "\n",
    "İfadedeki her bir kelimeyi (\"Gelecek Hayalim: W-Code\", \"Veri\", \"Bilimi\", \"Atölyesi\") değişken içinden seçilir.\n",
    "\n",
    "İfadeyi hepsini büyük harf olacak hale çevrilir. (\"GELECEK HAYALİM: W-CODE VERİ BİLİMİ ATÖLYESİ\")\n",
    "\n",
    "İfadeyi hepsini büyük harf olacak hale çevrilir.(\"gelecek hayalim: w-code veri bilimi atölyesi\")\n",
    "\n",
    "\"0123456789\" ifadesindeki yalnızca çift sayıları ve yalnızca tek sayıları seçilir. (\"02468\", \"13579\")"
   ]
  },
  {
   "cell_type": "code",
   "execution_count": 113,
   "id": "b1bcde2f-eb61-422a-9481-a997505d772c",
   "metadata": {
    "tags": []
   },
   "outputs": [
    {
     "name": "stdout",
     "output_type": "stream",
     "text": [
      "['Hi-Kod', 'Veri', 'Bilimi', 'Atölyesi']\n",
      "GELECEK HAYALIM: W-CODE VERI BILIMI ATÖLYESI\n",
      "gelecek hayalim: w-code veri bilimi atölyesi\n",
      "Çift sayılar: 02468\n",
      "Tek sayılar: 13579\n"
     ]
    }
   ],
   "source": [
    "a = \"Hi-Kod Veri Bilimi Atölyesi\"\n",
    "kelimeler = a.split()\n",
    "print(kelimeler)\n",
    "\n",
    "\n",
    "b = \"Gelecek Hayalim: W-Code Veri Bilimi Atölyesi\"\n",
    "büyük_harf = b.upper()\n",
    "print(büyük_harf)\n",
    "\n",
    "küçük_harf = b.lower()\n",
    "print(küçük_harf)\n",
    "\n",
    "c = \"0123456789\"\n",
    "çift_sayılar = c[::2]\n",
    "tek_sayılar = c[1::2]\n",
    "print(\"Çift sayılar: \" + çift_sayılar)\n",
    "print(\"Tek sayılar: \" + tek_sayılar)"
   ]
  }
 ],
 "metadata": {
  "kernelspec": {
   "display_name": "Python 3 (ipykernel)",
   "language": "python",
   "name": "python3"
  },
  "language_info": {
   "codemirror_mode": {
    "name": "ipython",
    "version": 3
   },
   "file_extension": ".py",
   "mimetype": "text/x-python",
   "name": "python",
   "nbconvert_exporter": "python",
   "pygments_lexer": "ipython3",
   "version": "3.11.7"
  }
 },
 "nbformat": 4,
 "nbformat_minor": 5
}
