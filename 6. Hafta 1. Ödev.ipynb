{
 "cells": [
  {
   "cell_type": "markdown",
   "id": "ff3714c1-25b0-48d8-ba89-7cd90b6e797a",
   "metadata": {},
   "source": [
    "# 6. Hafta 1. Ödev"
   ]
  },
  {
   "cell_type": "markdown",
   "id": "a55c6554-e7f6-4d57-982f-7346d65da23e",
   "metadata": {},
   "source": [
    "**Bir sözlük oluşturulur ve bu sözlükte öğrencilerin isimleri ve Matematik, Fizik, Kimya notları tutulur. Kullanıcıdan isim ve ders ismi (Matematik, Fizik, Kimya) istenir ve bu bilgilere göre çıktı verilir.**"
   ]
  },
  {
   "cell_type": "code",
   "execution_count": 10,
   "id": "ca5ace70-8c42-427f-8f56-d81ffcdaad21",
   "metadata": {
    "tags": []
   },
   "outputs": [
    {
     "name": "stdin",
     "output_type": "stream",
     "text": [
      "Öğrenci ismini girin:  Selin\n",
      "Ders ismini girin (Matematik, Fizik, Kimya):  Matematik\n"
     ]
    },
    {
     "name": "stdout",
     "output_type": "stream",
     "text": [
      "Selin isimli öğrencinin Matematik notu: 90\n"
     ]
    }
   ],
   "source": [
    "öğrenciler = {\n",
    "    \"Selin\": {\"Matematik\": 90, \"Fizik\":85, \"Kimya\":75},\n",
    "    \"Seda\": {\"Matematik\": 80, \"Fizik\":60, \"Kimya\":85},\n",
    "    \"Tuana\": {\"Matematik\": 70, \"Fizik\":78, \"Kimya\":88},\n",
    "    \"Ali\": {\"Matematik\": 65, \"Fizik\":85, \"Kimya\":70}}\n",
    "\n",
    "öğrenci_ismi = input(\"Öğrenci ismini girin: \")\n",
    "ders = input(\"Ders ismini girin (Matematik, Fizik, Kimya): \")\n",
    "\n",
    "if öğrenci_ismi in öğrenciler and ders in öğrenciler[öğrenci_ismi]:\n",
    "    sınav_notu = öğrenciler[öğrenci_ismi][ders]\n",
    "    print(f\"{öğrenci_ismi} isimli öğrencinin {ders} notu: {sınav_notu}\")\n",
    "else:\n",
    "    print(\"Girilen isim veya ders yanlış!\")"
   ]
  },
  {
   "cell_type": "markdown",
   "id": "b092f2c6-205f-473a-91de-6296a603e9db",
   "metadata": {},
   "source": [
    "**Sözlük üzerinde değerleri değiştirme, yeni değer ekleme, kullanıcıya ulaşmak istediği bilgileri sorma gibi uygulamalar yapın**"
   ]
  },
  {
   "cell_type": "code",
   "execution_count": 17,
   "id": "08ae4b8f-c84e-4eaa-83c0-1f7f69c6ca5a",
   "metadata": {
    "tags": []
   },
   "outputs": [
    {
     "name": "stdout",
     "output_type": "stream",
     "text": [
      "\n",
      "1. Öğrenci notu göster\n",
      "2. Not güncelle\n",
      "3. Yeni öğrenci ekle\n",
      "4. Çıkış\n"
     ]
    },
    {
     "name": "stdin",
     "output_type": "stream",
     "text": [
      "Bir işlem seçin (1-4):  2\n",
      "Öğrenci ismi:  Selin\n",
      "Ders ismi (Matematik, Fizik, Kimya):  Kimya\n",
      "Selin isimli öğrencinin Kimya dersi için yeni notu girin:  80\n"
     ]
    },
    {
     "name": "stdout",
     "output_type": "stream",
     "text": [
      "Selin isimli öğrencinin Kimya notu 80 olarak güncellendi.\n",
      "\n",
      "1. Öğrenci notu göster\n",
      "2. Not güncelle\n",
      "3. Yeni öğrenci ekle\n",
      "4. Çıkış\n"
     ]
    },
    {
     "name": "stdin",
     "output_type": "stream",
     "text": [
      "Bir işlem seçin (1-4):  1\n",
      "Öğrenci ismi:  Selin\n",
      "Ders ismi (Matematik, Fizik, Kimya):  Kimya\n"
     ]
    },
    {
     "name": "stdout",
     "output_type": "stream",
     "text": [
      "Selin isimli öğrencinin Kimya notu: 80\n",
      "\n",
      "1. Öğrenci notu göster\n",
      "2. Not güncelle\n",
      "3. Yeni öğrenci ekle\n",
      "4. Çıkış\n"
     ]
    },
    {
     "name": "stdin",
     "output_type": "stream",
     "text": [
      "Bir işlem seçin (1-4):  3\n",
      "Yeni öğrencinin ismi:  Ayşe\n",
      "Matematik notu:  60\n",
      "Fizik notu:  50\n",
      "Kimya notu:  70\n"
     ]
    },
    {
     "name": "stdout",
     "output_type": "stream",
     "text": [
      "Ayşe isimli öğrenci sözlüğe eklendi.\n",
      "\n",
      "1. Öğrenci notu göster\n",
      "2. Not güncelle\n",
      "3. Yeni öğrenci ekle\n",
      "4. Çıkış\n"
     ]
    },
    {
     "name": "stdin",
     "output_type": "stream",
     "text": [
      "Bir işlem seçin (1-4):  4\n"
     ]
    },
    {
     "name": "stdout",
     "output_type": "stream",
     "text": [
      "Programdan çıkılıyor...\n"
     ]
    }
   ],
   "source": [
    "öğrenciler = {\n",
    "    \"Selin\": {\"Matematik\": 90, \"Fizik\": 85, \"Kimya\": 75},\n",
    "    \"Seda\": {\"Matematik\": 80, \"Fizik\": 60, \"Kimya\": 85},\n",
    "    \"Tuana\": {\"Matematik\": 70, \"Fizik\": 78, \"Kimya\": 88},\n",
    "    \"Ali\": {\"Matematik\": 65, \"Fizik\": 85, \"Kimya\": 70}\n",
    "}\n",
    "\n",
    "def not_güncelleme(öğrencinin_ismi, ders, yeni_not):\n",
    "    if öğrencinin_ismi in öğrenciler and ders in öğrenciler[öğrencinin_ismi]:\n",
    "        öğrenciler[öğrencinin_ismi][ders] = yeni_not\n",
    "        print(f\"{öğrencinin_ismi} isimli öğrencinin {ders} notu {yeni_not} olarak güncellendi.\")\n",
    "    else:\n",
    "        print(\"Girilen öğrenci veya ders bulunamadı!\")\n",
    "\n",
    "def yeni_ogrenci_ekle(öğrencinin_ismi, notlar):\n",
    "    öğrenciler[öğrencinin_ismi] = notlar\n",
    "    print(f\"{öğrencinin_ismi} isimli öğrenci sözlüğe eklendi.\")\n",
    "        \n",
    "def notu_goster(öğrencinin_ismi, ders):\n",
    "    if öğrencinin_ismi in öğrenciler and ders in öğrenciler[öğrencinin_ismi]:\n",
    "        print(f\"{öğrencinin_ismi} isimli öğrencinin {ders} notu: {öğrenciler[öğrencinin_ismi][ders]}\")\n",
    "    else:\n",
    "        print(\"Girilen öğrenci veya ders bulunamadı!\")\n",
    "\n",
    "while True:\n",
    "    print(\"\\n1. Öğrenci notu göster\\n2. Not güncelle\\n3. Yeni öğrenci ekle\\n4. Çıkış\")\n",
    "    seçim = input(\"Bir işlem seçin (1-4): \")\n",
    "\n",
    "    if seçim == \"1\":\n",
    "        öğrencinin_ismi = input(\"Öğrenci ismi: \")\n",
    "        ders = input(\"Ders ismi (Matematik, Fizik, Kimya): \")\n",
    "        notu_goster(öğrencinin_ismi, ders)\n",
    "\n",
    "    elif seçim == \"2\":\n",
    "        öğrencinin_ismi = input(\"Öğrenci ismi: \")\n",
    "        ders = input(\"Ders ismi (Matematik, Fizik, Kimya): \")\n",
    "        yeni_not = int(input(f\"{öğrencinin_ismi} isimli öğrencinin {ders} dersi için yeni notu girin: \"))\n",
    "        not_güncelleme(öğrencinin_ismi, ders, yeni_not)\n",
    "\n",
    "    elif seçim == \"3\":\n",
    "        öğrencinin_ismi = input(\"Yeni öğrencinin ismi: \")\n",
    "        matematik_notu = int(input(\"Matematik notu: \"))\n",
    "        fizik_notu = int(input(\"Fizik notu: \"))\n",
    "        kimya_notu = int(input(\"Kimya notu: \"))\n",
    "        yeni_ogrenci_ekle(öğrencinin_ismi, {\"Matematik\": matematik_notu, \"Fizik\": fizik_notu, \"Kimya\": kimya_notu})\n",
    "\n",
    "    elif seçim == \"4\":\n",
    "        print(\"Programdan çıkılıyor...\")\n",
    "        break\n",
    "\n",
    "    else:\n",
    "        print(\"Geçersiz seçim! Lütfen 1-4 arasında bir seçim yapın.\")\n"
   ]
  },
  {
   "cell_type": "code",
   "execution_count": null,
   "id": "d420439a-ecea-4874-a5ec-755b0d511fae",
   "metadata": {},
   "outputs": [],
   "source": []
  }
 ],
 "metadata": {
  "kernelspec": {
   "display_name": "Python 3 (ipykernel)",
   "language": "python",
   "name": "python3"
  },
  "language_info": {
   "codemirror_mode": {
    "name": "ipython",
    "version": 3
   },
   "file_extension": ".py",
   "mimetype": "text/x-python",
   "name": "python",
   "nbconvert_exporter": "python",
   "pygments_lexer": "ipython3",
   "version": "3.11.7"
  }
 },
 "nbformat": 4,
 "nbformat_minor": 5
}
